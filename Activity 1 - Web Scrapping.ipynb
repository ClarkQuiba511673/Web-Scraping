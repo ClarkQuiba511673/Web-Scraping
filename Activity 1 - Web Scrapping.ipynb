{
 "cells": [
  {
   "cell_type": "code",
   "execution_count": 2,
   "id": "dfbd670a",
   "metadata": {},
   "outputs": [],
   "source": [
    "import requests\n",
    "import pandas as pd\n",
    "from bs4 import BeautifulSoup\n",
    " \n",
    "url = 'https://github.com/resources/articles/ai'\n",
    "response = requests.get(url)\n",
    "response.raise_for_status()"
   ]
  },
  {
   "cell_type": "code",
   "execution_count": 3,
   "id": "962cfd0c",
   "metadata": {},
   "outputs": [],
   "source": [
    "soup = BeautifulSoup(response.text, 'html.parser')"
   ]
  },
  {
   "cell_type": "code",
   "execution_count": 4,
   "id": "54aa3da3",
   "metadata": {},
   "outputs": [],
   "source": [
    "titles = []\n",
    "links = []"
   ]
  },
  {
   "cell_type": "code",
   "execution_count": 5,
   "id": "652f9c94",
   "metadata": {},
   "outputs": [],
   "source": [
    "article_containers = soup.find_all('a', class_='Primer_Brand__Card-module__Card__link___Ye5mq')"
   ]
  },
  {
   "cell_type": "code",
   "execution_count": 6,
   "id": "e4e46744",
   "metadata": {},
   "outputs": [],
   "source": [
    "for container in article_containers:\n",
    "    title = container.get_text(strip=True)\n",
    "    link = container['href']\n",
    " \n",
    "    titles.append(title)\n",
    "    links.append('https://github.com' + link)"
   ]
  },
  {
   "cell_type": "code",
   "execution_count": 7,
   "id": "d8ac4bb2",
   "metadata": {},
   "outputs": [
    {
     "name": "stdout",
     "output_type": "stream",
     "text": [
      "AI Code Reviews - https://github.comhttps://github.com/resources/articles/ai/ai-code-reviews\n",
      "What Is Vibe Coding? - https://github.comhttps://github.com/resources/articles/ai/what-is-vibe-coding\n",
      "What is Agentic AI? - https://github.comhttps://github.com/resources/articles/ai/what-is-agentic-ai\n",
      "Machine Learning (ML) in Software Development - https://github.comhttps://github.com/resources/articles/ai/machine-learning-in-software-development\n",
      "What are Generative AI Models? - https://github.comhttps://github.com/resources/articles/ai/what-are-generative-ai-models\n",
      "What are AI models? - https://github.comhttps://github.com/resources/articles/ai/what-are-ai-models\n",
      "What are AI agents? - https://github.comhttps://github.com/resources/articles/ai/what-are-ai-agents\n",
      "Enhancing software development with retrieval-augmented generation - https://github.comhttps://github.com/resources/articles/ai/software-development-with-retrieval-augmentation-generation-rag\n",
      "What is Natural language processing (NLP)? - https://github.comhttps://github.com/resources/articles/ai/natural-language-processing\n",
      "What is AI code generation? - https://github.comhttps://github.com/resources/articles/ai/what-is-ai-code-generation\n",
      "AI coding tools for beginner and expert coders - https://github.comhttps://github.com/resources/articles/ai/ai-coding-tools\n",
      "AI in Software Development - https://github.comhttps://github.com/resources/articles/ai/ai-in-software-development\n"
     ]
    }
   ],
   "source": [
    "for t, l in zip(titles, links):\n",
    "    print(f'{t} - {l}')\n",
    " \n",
    "df = pd.DataFrame({\n",
    "    'Title': titles,\n",
    "    'Link': links\n",
    "})"
   ]
  },
  {
   "cell_type": "code",
   "execution_count": 8,
   "id": "b829f491",
   "metadata": {},
   "outputs": [
    {
     "name": "stdout",
     "output_type": "stream",
     "text": [
      "Data saved to github_articles.csv\n"
     ]
    }
   ],
   "source": [
    "df.to_csv('github_articles.csv', index=False)\n",
    "print(\"Data saved to github_articles.csv\")"
   ]
  }
 ],
 "metadata": {
  "kernelspec": {
   "display_name": "Python 3",
   "language": "python",
   "name": "python3"
  },
  "language_info": {
   "codemirror_mode": {
    "name": "ipython",
    "version": 3
   },
   "file_extension": ".py",
   "mimetype": "text/x-python",
   "name": "python",
   "nbconvert_exporter": "python",
   "pygments_lexer": "ipython3",
   "version": "3.13.2"
  }
 },
 "nbformat": 4,
 "nbformat_minor": 5
}
